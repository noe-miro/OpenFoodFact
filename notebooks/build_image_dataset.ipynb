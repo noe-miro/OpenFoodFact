{
 "cells": [
  {
   "cell_type": "markdown",
   "metadata": {},
   "source": [
    "# Pre-requisite libraries"
   ]
  },
  {
   "cell_type": "code",
   "execution_count": 48,
   "metadata": {},
   "outputs": [
    {
     "name": "stdout",
     "output_type": "stream",
     "text": [
      "Requirement already satisfied: pymongo in ./.venv/lib/python3.8/site-packages (4.3.3)\n",
      "Requirement already satisfied: dnspython<3.0.0,>=1.16.0 in ./.venv/lib/python3.8/site-packages (from pymongo) (2.3.0)\n",
      "\u001b[33mWARNING: You are using pip version 20.1.1; however, version 22.3.1 is available.\n",
      "You should consider upgrading via the '/Users/cfrancois/campus/.venv/bin/python3 -m pip install --upgrade pip' command.\u001b[0m\n",
      "Requirement already satisfied: requests in ./.venv/lib/python3.8/site-packages (2.28.2)\n",
      "Requirement already satisfied: urllib3<1.27,>=1.21.1 in ./.venv/lib/python3.8/site-packages (from requests) (1.26.14)\n",
      "Requirement already satisfied: idna<4,>=2.5 in ./.venv/lib/python3.8/site-packages (from requests) (3.4)\n",
      "Requirement already satisfied: certifi>=2017.4.17 in ./.venv/lib/python3.8/site-packages (from requests) (2022.12.7)\n",
      "Requirement already satisfied: charset-normalizer<4,>=2 in ./.venv/lib/python3.8/site-packages (from requests) (3.0.1)\n",
      "\u001b[33mWARNING: You are using pip version 20.1.1; however, version 22.3.1 is available.\n",
      "You should consider upgrading via the '/Users/cfrancois/campus/.venv/bin/python3 -m pip install --upgrade pip' command.\u001b[0m\n",
      "Collecting tqdm\n",
      "  Downloading tqdm-4.64.1-py2.py3-none-any.whl (78 kB)\n",
      "\u001b[K     |████████████████████████████████| 78 kB 696 kB/s eta 0:00:01\n",
      "\u001b[?25hInstalling collected packages: tqdm\n",
      "Successfully installed tqdm-4.64.1\n",
      "\u001b[33mWARNING: You are using pip version 20.1.1; however, version 22.3.1 is available.\n",
      "You should consider upgrading via the '/Users/cfrancois/campus/.venv/bin/python3 -m pip install --upgrade pip' command.\u001b[0m\n"
     ]
    }
   ],
   "source": [
    "!pip install pymongo\n",
    "!pip install requests\n",
    "!pip install tqdm\n",
    "!pip install numpy"
   ]
  },
  {
   "cell_type": "markdown",
   "metadata": {},
   "source": [
    "# Extract info"
   ]
  },
  {
   "cell_type": "markdown",
   "metadata": {},
   "source": [
    "**WARNING: The following code supposes that your install one OpenFoodFact MongoDB instance locally.**"
   ]
  },
  {
   "cell_type": "code",
   "execution_count": 14,
   "metadata": {},
   "outputs": [],
   "source": [
    "from pymongo import MongoClient\n",
    "import requests, shutil\n",
    "import re\n",
    "from tqdm import tqdm\n",
    "import json"
   ]
  },
  {
   "cell_type": "code",
   "execution_count": 2,
   "metadata": {},
   "outputs": [],
   "source": [
    "def parse(string, prefix=prefix):\n",
    "    code = string['code']\n",
    "    if len(code) > 8:\n",
    "        tmp = re.split(r'(...)(...)(...)(.*)$', code)[1:-1]\n",
    "    else:\n",
    "        tmp = code\n",
    "    newprefix = prefix + '/'.join(tmp) + '/'\n",
    "    names = list(string['images'].keys())\n",
    "    urls = [f'{newprefix}{s}.400.jpg' for s in names]\n",
    "    return urls\n",
    "\n",
    "def save_image(image_url, parent_name):\n",
    "    r = requests.get(image_url, stream = True)\n",
    "    # Check if the image was retrieved successfully\n",
    "    if r.status_code == 200:\n",
    "        # Set decode_content value to True, otherwise the downloaded image file's size will be zero.\n",
    "        r.raw.decode_content = True\n",
    "        # Open a local file with wb ( write binary ) permission.\n",
    "        filename = parent_name + '_' + image_url.split('/')[-1]\n",
    "        with open(filename,'wb') as f:\n",
    "            shutil.copyfileobj(r.raw, f)"
   ]
  },
  {
   "cell_type": "code",
   "execution_count": null,
   "metadata": {},
   "outputs": [],
   "source": [
    "client = MongoClient('localhost', 27017)\n",
    "db = client['off']\n",
    "collection = db['products']\n",
    "prefix = 'https://images.openfoodfacts.org/images/products/'"
   ]
  },
  {
   "cell_type": "code",
   "execution_count": 5,
   "metadata": {},
   "outputs": [],
   "source": [
    "projection = {\n",
    "    'id':1,\n",
    "    'code':1,\n",
    "    'images':1,\n",
    "    'abbreviated_product_name':1,\n",
    "    'product_name':1,\n",
    "    }\n",
    "query = {\n",
    "    'countries':{'$nin':['France', 'en:fr']},\n",
    "    'images':{\"$exists\":True, '$ne':[]}\n",
    "    }\n",
    "cursor = collection.find(query, projection=projection, limit=100000)"
   ]
  },
  {
   "cell_type": "code",
   "execution_count": 6,
   "metadata": {},
   "outputs": [],
   "source": [
    "ids = [i for i in cursor]\n",
    "image_url_dict= {i['code']:parse(i) for i in ids}"
   ]
  },
  {
   "cell_type": "code",
   "execution_count": 10,
   "metadata": {},
   "outputs": [],
   "source": [
    "# build dict with code as key and product_name and/or\n",
    "# abbreviated_product_name when they exist\n",
    "id_name_dict = {\n",
    "    i['code']:{\n",
    "    'product_name':i.get('product_name', 'NA'),\n",
    "    'abbreviated_product_name':i.get('abbreviated_product_name', 'NA')\n",
    "    } for i in ids\n",
    "}\n",
    "# save the dict into .json file.\n",
    "with open('label_of_products.json', 'w') as file:\n",
    "     file.write(json.dumps(id_name_dict))"
   ]
  },
  {
   "cell_type": "markdown",
   "metadata": {},
   "source": [
    "# Download images one by one (long, maybe could be optimized)"
   ]
  },
  {
   "cell_type": "code",
   "execution_count": 27,
   "metadata": {},
   "outputs": [],
   "source": [
    "from pathlib import Path\n",
    "DOWNLOADED_IMAGE_LIST = Path('images_downloaded.txt')\n",
    "\n",
    "\n",
    "if DOWNLOADED_IMAGE_LIST.exists():\n",
    "    with open('images_downloaded.txt', 'r') as f:\n",
    "        downloaded = f.readlines()\n",
    "    # set is faster than list for existence\n",
    "    downloaded = set([i.strip() for i in downloaded])\n",
    "else:\n",
    "    downloaded = set()"
   ]
  },
  {
   "cell_type": "code",
   "execution_count": 28,
   "metadata": {},
   "outputs": [
    {
     "name": "stderr",
     "output_type": "stream",
     "text": [
      " 14%|█▍        | 13939/100000 [00:17<02:35, 553.81it/s]  "
     ]
    }
   ],
   "source": [
    "for k, urls in tqdm(image_url_dict.items()):\n",
    "    for image_url in urls:\n",
    "        if k in downloaded:\n",
    "            pass\n",
    "        else:\n",
    "            save_image(image_url, 'images/'+k)\n",
    "        downloaded.add(k)"
   ]
  },
  {
   "cell_type": "code",
   "execution_count": 26,
   "metadata": {},
   "outputs": [],
   "source": [
    "with open('images_downloaded.txt', 'w') as f:\n",
    "    for line in downloaded:\n",
    "        f.write(f\"{line}\\n\")"
   ]
  },
  {
   "cell_type": "code",
   "execution_count": null,
   "metadata": {},
   "outputs": [],
   "source": []
  }
 ],
 "metadata": {
  "kernelspec": {
   "display_name": "Python 3 (ipykernel)",
   "language": "python",
   "name": "python3"
  },
  "language_info": {
   "codemirror_mode": {
    "name": "ipython",
    "version": 3
   },
   "file_extension": ".py",
   "mimetype": "text/x-python",
   "name": "python",
   "nbconvert_exporter": "python",
   "pygments_lexer": "ipython3",
   "version": "3.9.12"
  },
  "vscode": {
   "interpreter": {
    "hash": "1727ea42b1c217ff13518554ac6c0a66ab66f2c6551fd4b7128a821f0f603606"
   }
  }
 },
 "nbformat": 4,
 "nbformat_minor": 4
}
